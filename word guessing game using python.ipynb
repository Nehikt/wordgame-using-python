{
 "cells": [
  {
   "cell_type": "code",
   "execution_count": 1,
   "id": "5fbc5520",
   "metadata": {},
   "outputs": [
    {
     "name": "stdout",
     "output_type": "stream",
     "text": [
      "enter your nameneha\n",
      "welcome to the game world neha\n",
      "we are going to give you 6 attempts for guessing\n",
      "Guess the letter:a\n",
      "yes!\n",
      "Guess the letter:o\n",
      "no!\n",
      "Guess the letter:p\n",
      "no!\n",
      "Guess the letter:v\n",
      "no!\n",
      "\n",
      "would you like a cluey\n",
      "\n",
      "CLUE:The first and last letter of the word is: bl\n",
      "Guess the letter:l\n",
      "yes!\n",
      "Guess the letter:b\n",
      "yes!\n",
      "\n",
      "NOW let's see what have guessed so far.  3 letter correctly\n",
      "These letters are: ['a', 'l', 'b']\n",
      "Guess the whole word: ball\n",
      "Congrats!! you are correct\n",
      "\n",
      "Please press Enter to leave the program\n"
     ]
    },
    {
     "data": {
      "text/plain": [
       "''"
      ]
     },
     "execution_count": 1,
     "metadata": {},
     "output_type": "execute_result"
    }
   ],
   "source": [
    "import random\n",
    "words=['apple','ball','cat','dog','elephant','fun','gun','hat','ice','jug','kite','lion','monkey','nannu','orange','piya','queen','rat','sun','ten','umbrella','van','watch','yogurt','zoo']\n",
    "guessed_word=random.choice(words)\n",
    "hint=guessed_word[0]+guessed_word[-1]\n",
    "\n",
    "\n",
    "l=[]\n",
    "try_p=6\n",
    "a=input(\"enter your name\")\n",
    "print(\"welcome to the game world\",a)\n",
    "print(\"we are going to give you 6 attempts for guessing\")\n",
    "\n",
    "for guess in range(try_p):\n",
    "    while True:\n",
    "        letter=input(\"Guess the letter:\" )\n",
    "        \n",
    "        if len(letter)==1:\n",
    "            break\n",
    "        else:\n",
    "            print(\"Oops!! please Guess a letter again\")\n",
    "            \n",
    "    if letter in guessed_word:\n",
    "        print(\"yes!\")\n",
    "        l.append(letter)\n",
    "    else:\n",
    "        print(\"no!\")\n",
    "        \n",
    "    if guess==3:\n",
    "        print()\n",
    "        clue_request=input(\"would you like a clue\")\n",
    "        if clue_request.lower().startswith('y'):\n",
    "            print()\n",
    "            print(\"CLUE:The first and last letter of the word is:\",hint)\n",
    "        else:\n",
    "            print(\"you're very confident\")\n",
    "\n",
    "print() \n",
    "print(\"NOW let's see what have guessed so far. \",len(l),\"letter correctly\")\n",
    "print(\"These letters are:\",l)\n",
    "        \n",
    "word_guess=input(\"Guess the whole word: \")\n",
    "if word_guess.lower()==guessed_word:\n",
    "    print(\"Congrats!! you are correct\")\n",
    "else:\n",
    "    print(\"Sorry! The answer was:\",guessed_word)\n",
    "print()\n",
    "input(\"Please press Enter to leave the program\")"
   ]
  }
 ],
 "metadata": {
  "kernelspec": {
   "display_name": "Python 3",
   "language": "python",
   "name": "python3"
  },
  "language_info": {
   "codemirror_mode": {
    "name": "ipython",
    "version": 3
   },
   "file_extension": ".py",
   "mimetype": "text/x-python",
   "name": "python",
   "nbconvert_exporter": "python",
   "pygments_lexer": "ipython3",
   "version": "3.8.8"
  }
 },
 "nbformat": 4,
 "nbformat_minor": 5
}
